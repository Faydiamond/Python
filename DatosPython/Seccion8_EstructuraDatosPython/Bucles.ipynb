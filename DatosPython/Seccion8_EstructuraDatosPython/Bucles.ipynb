{
 "cells": [
  {
   "cell_type": "markdown",
   "metadata": {
    "ExecuteTime": {
     "end_time": "2021-03-08T19:17:49.857501Z",
     "start_time": "2021-03-08T19:17:49.844499Z"
    }
   },
   "source": [
    "## for\n"
   ]
  },
  {
   "cell_type": "code",
   "execution_count": 6,
   "metadata": {
    "ExecuteTime": {
     "end_time": "2021-03-08T19:21:24.061047Z",
     "start_time": "2021-03-08T19:21:24.047084Z"
    }
   },
   "outputs": [
    {
     "data": {
      "text/plain": [
       "[0, 1, 3, 5, 8, 9, 11, 12, 15, 17, 19, 20, 22, 24, 26, 28, 29, 30]"
      ]
     },
     "execution_count": 6,
     "metadata": {},
     "output_type": "execute_result"
    }
   ],
   "source": [
    "list_one = [0,1,3,5,8,9,11,12,15,17,19,20,22,24,26,28,29,30]\n",
    "list_one"
   ]
  },
  {
   "cell_type": "code",
   "execution_count": 10,
   "metadata": {
    "ExecuteTime": {
     "end_time": "2021-03-08T19:22:14.812136Z",
     "start_time": "2021-03-08T19:22:14.807146Z"
    }
   },
   "outputs": [
    {
     "name": "stdout",
     "output_type": "stream",
     "text": [
      "0\n",
      "1\n",
      "3\n",
      "5\n",
      "8\n",
      "9\n",
      "11\n",
      "12\n",
      "15\n",
      "17\n",
      "19\n",
      "20\n",
      "22\n",
      "24\n",
      "26\n",
      "28\n",
      "29\n",
      "30\n"
     ]
    }
   ],
   "source": [
    "for number in list_one:\n",
    "    print(number)"
   ]
  },
  {
   "cell_type": "code",
   "execution_count": 11,
   "metadata": {
    "ExecuteTime": {
     "end_time": "2021-03-08T19:22:34.937338Z",
     "start_time": "2021-03-08T19:22:34.928347Z"
    }
   },
   "outputs": [
    {
     "name": "stdout",
     "output_type": "stream",
     "text": [
      "M\n",
      "e\n",
      "n\n",
      "s\n",
      "a\n",
      "j\n",
      "e\n",
      " \n",
      "d\n",
      "e\n",
      " \n",
      "p\n",
      "r\n",
      "u\n",
      "e\n",
      "b\n",
      "a\n"
     ]
    }
   ],
   "source": [
    "for x in \"Mensaje de prueba\":\n",
    "    print(x)"
   ]
  },
  {
   "cell_type": "code",
   "execution_count": 13,
   "metadata": {
    "ExecuteTime": {
     "end_time": "2021-03-08T19:24:12.653826Z",
     "start_time": "2021-03-08T19:24:12.642264Z"
    }
   },
   "outputs": [
    {
     "name": "stdout",
     "output_type": "stream",
     "text": [
      "0\n",
      "1\n",
      "2\n",
      "3\n",
      "4\n",
      "5\n",
      "6\n",
      "7\n",
      "8\n",
      "9\n"
     ]
    }
   ],
   "source": [
    "for x in range (0,10):\n",
    "    print(x)"
   ]
  },
  {
   "cell_type": "code",
   "execution_count": 17,
   "metadata": {
    "ExecuteTime": {
     "end_time": "2021-03-08T19:26:03.310145Z",
     "start_time": "2021-03-08T19:26:03.304171Z"
    }
   },
   "outputs": [
    {
     "name": "stdout",
     "output_type": "stream",
     "text": [
      "index: 0 Valor: 0\n",
      "index: 1 Valor: 1\n",
      "index: 2 Valor: 3\n",
      "index: 3 Valor: 5\n",
      "index: 4 Valor: 8\n",
      "index: 5 Valor: 9\n",
      "index: 6 Valor: 11\n",
      "index: 7 Valor: 12\n",
      "index: 8 Valor: 15\n",
      "index: 9 Valor: 17\n",
      "index: 10 Valor: 19\n",
      "index: 11 Valor: 20\n",
      "index: 12 Valor: 22\n",
      "index: 13 Valor: 24\n",
      "index: 14 Valor: 26\n",
      "index: 15 Valor: 28\n",
      "index: 16 Valor: 29\n",
      "index: 17 Valor: 30\n"
     ]
    }
   ],
   "source": [
    "for indice, valor in enumerate(list_one):\n",
    "    print('index: '+ str(indice), 'Valor: '+str(valor))"
   ]
  },
  {
   "cell_type": "code",
   "execution_count": 18,
   "metadata": {
    "ExecuteTime": {
     "end_time": "2021-03-08T19:27:41.138129Z",
     "start_time": "2021-03-08T19:27:41.129152Z"
    }
   },
   "outputs": [
    {
     "name": "stdout",
     "output_type": "stream",
     "text": [
      "0\n",
      "1\n",
      "2\n",
      "3\n",
      "4\n",
      "5\n",
      "6\n",
      "7\n",
      "8\n",
      "9\n",
      "10\n",
      "11\n",
      "12\n",
      "13\n",
      "14\n",
      "15\n",
      "16\n",
      "17\n"
     ]
    }
   ],
   "source": [
    "for i in range(len(list_one)):\n",
    "    print(i)"
   ]
  },
  {
   "cell_type": "code",
   "execution_count": 19,
   "metadata": {
    "ExecuteTime": {
     "end_time": "2021-03-08T19:28:11.779414Z",
     "start_time": "2021-03-08T19:28:11.774425Z"
    }
   },
   "outputs": [
    {
     "name": "stdout",
     "output_type": "stream",
     "text": [
      "18\n"
     ]
    }
   ],
   "source": [
    "print(len(list_one))"
   ]
  },
  {
   "cell_type": "code",
   "execution_count": 22,
   "metadata": {
    "ExecuteTime": {
     "end_time": "2021-03-08T19:29:57.492850Z",
     "start_time": "2021-03-08T19:29:57.486868Z"
    }
   },
   "outputs": [
    {
     "name": "stdout",
     "output_type": "stream",
     "text": [
      "Indice: 0Valor: 0\n",
      "Indice: 1Valor: 1\n",
      "Indice: 2Valor: 3\n",
      "Indice: 3Valor: 5\n",
      "Indice: 4Valor: 8\n",
      "Indice: 5Valor: 9\n",
      "Indice: 6Valor: 11\n",
      "Indice: 7Valor: 12\n",
      "Indice: 8Valor: 15\n",
      "Indice: 9Valor: 17\n",
      "Indice: 10Valor: 19\n",
      "Indice: 11Valor: 20\n",
      "Indice: 12Valor: 22\n",
      "Indice: 13Valor: 24\n",
      "Indice: 14Valor: 26\n",
      "Indice: 15Valor: 28\n",
      "Indice: 16Valor: 29\n",
      "Indice: 17Valor: 30\n"
     ]
    }
   ],
   "source": [
    "for idx in range (len(list_one)):\n",
    "    print('Indice: ' +str(idx) + 'Valor: '+ str(list_one[idx]) )"
   ]
  },
  {
   "cell_type": "markdown",
   "metadata": {
    "ExecuteTime": {
     "end_time": "2021-03-08T19:30:09.569770Z",
     "start_time": "2021-03-08T19:30:09.566778Z"
    }
   },
   "source": [
    "## while\n"
   ]
  },
  {
   "cell_type": "code",
   "execution_count": 28,
   "metadata": {
    "ExecuteTime": {
     "end_time": "2021-03-08T19:36:58.294696Z",
     "start_time": "2021-03-08T19:36:58.288712Z"
    }
   },
   "outputs": [
    {
     "name": "stdout",
     "output_type": "stream",
     "text": [
      "0\n",
      "1\n",
      "3\n",
      "5\n",
      "8\n",
      "9\n",
      "11\n",
      "12\n",
      "15\n",
      "17\n",
      "19\n",
      "20\n",
      "22\n",
      "24\n",
      "26\n",
      "28\n",
      "29\n",
      "30\n"
     ]
    }
   ],
   "source": [
    "aux = 0\n",
    "while aux < len(list_one):\n",
    "    print(list_one[aux])\n",
    "    aux+=1"
   ]
  },
  {
   "cell_type": "code",
   "execution_count": null,
   "metadata": {},
   "outputs": [],
   "source": []
  }
 ],
 "metadata": {
  "kernelspec": {
   "display_name": "Python 3",
   "language": "python",
   "name": "python3"
  },
  "language_info": {
   "codemirror_mode": {
    "name": "ipython",
    "version": 3
   },
   "file_extension": ".py",
   "mimetype": "text/x-python",
   "name": "python",
   "nbconvert_exporter": "python",
   "pygments_lexer": "ipython3",
   "version": "3.8.5"
  },
  "toc": {
   "base_numbering": 1,
   "nav_menu": {},
   "number_sections": true,
   "sideBar": true,
   "skip_h1_title": false,
   "title_cell": "Table of Contents",
   "title_sidebar": "Contents",
   "toc_cell": false,
   "toc_position": {},
   "toc_section_display": true,
   "toc_window_display": false
  },
  "varInspector": {
   "cols": {
    "lenName": 16,
    "lenType": 16,
    "lenVar": 40
   },
   "kernels_config": {
    "python": {
     "delete_cmd_postfix": "",
     "delete_cmd_prefix": "del ",
     "library": "var_list.py",
     "varRefreshCmd": "print(var_dic_list())"
    },
    "r": {
     "delete_cmd_postfix": ") ",
     "delete_cmd_prefix": "rm(",
     "library": "var_list.r",
     "varRefreshCmd": "cat(var_dic_list()) "
    }
   },
   "types_to_exclude": [
    "module",
    "function",
    "builtin_function_or_method",
    "instance",
    "_Feature"
   ],
   "window_display": false
  }
 },
 "nbformat": 4,
 "nbformat_minor": 4
}
