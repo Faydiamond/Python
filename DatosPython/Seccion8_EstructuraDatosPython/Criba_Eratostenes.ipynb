{
 "cells": [
  {
   "cell_type": "code",
   "execution_count": 7,
   "metadata": {
    "ExecuteTime": {
     "end_time": "2021-03-08T20:08:20.498203Z",
     "start_time": "2021-03-08T20:08:20.492249Z"
    }
   },
   "outputs": [],
   "source": [
    "def criba__eratosteness():\n",
    "    listt = [2]\n",
    "    flag  = 1\n",
    "    while flag == 1:\n",
    "        number = int(input('Por favor digite un número '))\n",
    "        listt.append(number)\n",
    "        questionn = input('¿esea ingresar mas numeros a la lista?, digite si o no')\n",
    "        if (questionn == 'si'):\n",
    "            flag = 1\n",
    "        elif (questionn == 'no'):\n",
    "            flag = 0\n",
    "            print (listt)\n",
    "            "
   ]
  },
  {
   "cell_type": "code",
   "execution_count": 8,
   "metadata": {
    "ExecuteTime": {
     "end_time": "2021-03-08T20:08:49.094707Z",
     "start_time": "2021-03-08T20:08:22.740115Z"
    }
   },
   "outputs": [
    {
     "name": "stdout",
     "output_type": "stream",
     "text": [
      "Por favor digite un número 10\n",
      "¿esea ingresar mas numeros a la lista?, digite si o nosi\n",
      "Por favor digite un número 20\n",
      "¿esea ingresar mas numeros a la lista?, digite si o nosi\n",
      "Por favor digite un número 4\n",
      "¿esea ingresar mas numeros a la lista?, digite si o no7\n",
      "Por favor digite un número 5\n",
      "¿esea ingresar mas numeros a la lista?, digite si o nosi\n",
      "Por favor digite un número 11\n",
      "¿esea ingresar mas numeros a la lista?, digite si o nono\n",
      "[2, 10, 20, 4, 5, 11]\n"
     ]
    }
   ],
   "source": [
    "criba__eratosteness()"
   ]
  },
  {
   "cell_type": "code",
   "execution_count": null,
   "metadata": {},
   "outputs": [],
   "source": []
  }
 ],
 "metadata": {
  "kernelspec": {
   "display_name": "Python 3",
   "language": "python",
   "name": "python3"
  },
  "language_info": {
   "codemirror_mode": {
    "name": "ipython",
    "version": 3
   },
   "file_extension": ".py",
   "mimetype": "text/x-python",
   "name": "python",
   "nbconvert_exporter": "python",
   "pygments_lexer": "ipython3",
   "version": "3.8.5"
  },
  "toc": {
   "base_numbering": 1,
   "nav_menu": {},
   "number_sections": true,
   "sideBar": true,
   "skip_h1_title": false,
   "title_cell": "Table of Contents",
   "title_sidebar": "Contents",
   "toc_cell": false,
   "toc_position": {},
   "toc_section_display": true,
   "toc_window_display": false
  },
  "varInspector": {
   "cols": {
    "lenName": 16,
    "lenType": 16,
    "lenVar": 40
   },
   "kernels_config": {
    "python": {
     "delete_cmd_postfix": "",
     "delete_cmd_prefix": "del ",
     "library": "var_list.py",
     "varRefreshCmd": "print(var_dic_list())"
    },
    "r": {
     "delete_cmd_postfix": ") ",
     "delete_cmd_prefix": "rm(",
     "library": "var_list.r",
     "varRefreshCmd": "cat(var_dic_list()) "
    }
   },
   "types_to_exclude": [
    "module",
    "function",
    "builtin_function_or_method",
    "instance",
    "_Feature"
   ],
   "window_display": false
  }
 },
 "nbformat": 4,
 "nbformat_minor": 4
}
