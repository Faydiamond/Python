{
 "cells": [
  {
   "cell_type": "markdown",
   "metadata": {
    "ExecuteTime": {
     "end_time": "2021-03-04T18:16:50.495278Z",
     "start_time": "2021-03-04T18:16:50.488301Z"
    }
   },
   "source": [
    "## Escribe una secuencia de instrucciones que permitan leer un número real por pantalla y que muestre si el número es positivo o no."
   ]
  },
  {
   "cell_type": "code",
   "execution_count": 5,
   "metadata": {
    "ExecuteTime": {
     "end_time": "2021-03-04T18:20:56.875903Z",
     "start_time": "2021-03-04T18:20:56.865894Z"
    }
   },
   "outputs": [],
   "source": [
    "def is_real():\n",
    "    number = int(input(\"Por favor digite un numero\"))\n",
    "    if (number > 0 ):\n",
    "        print(\"El número {} es positivo\".format(number))\n",
    "    else:\n",
    "        print(\"El número ingresado es negativo\")"
   ]
  },
  {
   "cell_type": "code",
   "execution_count": 8,
   "metadata": {
    "ExecuteTime": {
     "end_time": "2021-03-04T18:21:17.088500Z",
     "start_time": "2021-03-04T18:21:15.501027Z"
    }
   },
   "outputs": [
    {
     "name": "stdout",
     "output_type": "stream",
     "text": [
      "Por favor digite un numero-5\n",
      "El número ingresado es negativo\n"
     ]
    }
   ],
   "source": [
    "is_real()"
   ]
  },
  {
   "cell_type": "markdown",
   "metadata": {},
   "source": [
    "## Escribe una secuencia de instrucciones que permitan leer un número real por pantalla y que muestre si el número está en el rango entre -5 y 5"
   ]
  },
  {
   "cell_type": "code",
   "execution_count": 34,
   "metadata": {
    "ExecuteTime": {
     "end_time": "2021-03-04T18:28:14.473593Z",
     "start_time": "2021-03-04T18:28:14.469604Z"
    }
   },
   "outputs": [],
   "source": [
    "def range_five():\n",
    "    number = int(input(\"Por favor digite un numero\"))\n",
    "    if(number >= -5 and number <=5):\n",
    "        print( \"El numero ingresado se encuentra en el rango: entre -5 y 5 \")\n",
    "    else:\n",
    "        print(\"El número ingresado no se encuentra en el rango: entre -5 y 5\")"
   ]
  },
  {
   "cell_type": "code",
   "execution_count": 35,
   "metadata": {
    "ExecuteTime": {
     "end_time": "2021-03-04T18:28:19.538380Z",
     "start_time": "2021-03-04T18:28:17.948355Z"
    }
   },
   "outputs": [
    {
     "name": "stdout",
     "output_type": "stream",
     "text": [
      "Por favor digite un numero485\n",
      "El número ingresado no se encuentra en el rango: entre -5 y 5\n"
     ]
    }
   ],
   "source": [
    "range_five()"
   ]
  },
  {
   "cell_type": "markdown",
   "metadata": {},
   "source": [
    "## Escribe una secuencia de instrucciones que permitan leer las coordenadas de un punto (x, y) e indique en cuál de los cuatro cuadrantes se encuentra dicho punto."
   ]
  },
  {
   "cell_type": "code",
   "execution_count": 8,
   "metadata": {
    "ExecuteTime": {
     "end_time": "2021-03-04T22:14:41.709602Z",
     "start_time": "2021-03-04T22:14:41.702619Z"
    }
   },
   "outputs": [],
   "source": [
    "def what_cuadrant(x,y):\n",
    "    res = \"\"\n",
    "    if ( x>0 and y>0):\n",
    "        res =\"Las coordenadas ubican el punto en el primer cuadrante, dado que ambos valores son positivos\"\n",
    "    elif (x<0 and y>0):\n",
    "        res =\"Las coordenadas ubican el punto en el segundo cuadrante, dado que el valor de x es negativo et y es positivo\"\n",
    "    elif (x<0 and y<0):\n",
    "        res =\"Las coordenadas ubican el punto en el tercer cuadrante, dado que el valor de x es negativo et y es negativo\"\n",
    "    elif(x>0 and y<0):\n",
    "        res =\"Las coordenadas ubican el punto en el cuarto cuadrante, dado que el valor de x es positivo et y es negativo\"\n",
    "    return res\n",
    "    \n",
    "    \n",
    "    "
   ]
  },
  {
   "cell_type": "code",
   "execution_count": 9,
   "metadata": {
    "ExecuteTime": {
     "end_time": "2021-03-04T22:14:43.697996Z",
     "start_time": "2021-03-04T22:14:43.692016Z"
    }
   },
   "outputs": [
    {
     "data": {
      "text/plain": [
       "'Las coordenadas ubican el punto en el cuarto cuadrante, dado que el valor de x es positivo et y es negativo'"
      ]
     },
     "execution_count": 9,
     "metadata": {},
     "output_type": "execute_result"
    }
   ],
   "source": [
    "what_cuadrant(10,-2)"
   ]
  },
  {
   "cell_type": "markdown",
   "metadata": {
    "ExecuteTime": {
     "end_time": "2021-03-04T22:15:31.711362Z",
     "start_time": "2021-03-04T22:15:31.704379Z"
    }
   },
   "source": [
    "## Escribe una secuencia de instrucciones que permitan leer dos números enteros y muestre el cociente de la división entera y el resto."
   ]
  },
  {
   "cell_type": "code",
   "execution_count": 12,
   "metadata": {
    "ExecuteTime": {
     "end_time": "2021-03-04T22:18:30.003526Z",
     "start_time": "2021-03-04T22:18:29.994548Z"
    }
   },
   "outputs": [],
   "source": [
    "def co_res(x,y):\n",
    "    cociente = x//y\n",
    "    resto    = x % y\n",
    "    print(\"el cociente de la division es {} y el resto es: {}\".format(cociente,resto))\n",
    "    "
   ]
  },
  {
   "cell_type": "code",
   "execution_count": 13,
   "metadata": {
    "ExecuteTime": {
     "end_time": "2021-03-04T22:18:41.975214Z",
     "start_time": "2021-03-04T22:18:41.968236Z"
    }
   },
   "outputs": [
    {
     "name": "stdout",
     "output_type": "stream",
     "text": [
      "el cociente de la division es 2 y el resto es: 2\n"
     ]
    }
   ],
   "source": [
    "co_res(12,5)"
   ]
  },
  {
   "cell_type": "markdown",
   "metadata": {
    "ExecuteTime": {
     "end_time": "2021-03-04T22:19:14.163939Z",
     "start_time": "2021-03-04T22:19:14.151972Z"
    }
   },
   "source": [
    "## Escribe una secuencia de instrucciones que permitan leer un número entero es cuadrado perfecto o no (piensa la mejor forma de hacerlo con lo que has aprendido hasta ahora)"
   ]
  },
  {
   "cell_type": "code",
   "execution_count": 84,
   "metadata": {
    "ExecuteTime": {
     "end_time": "2021-03-04T23:24:26.619531Z",
     "start_time": "2021-03-04T23:24:26.611552Z"
    }
   },
   "outputs": [],
   "source": [
    "import math\n",
    "def is_perfect (x):\n",
    "    number = math.modf(math.sqrt(x))  \n",
    "    if(number[0] >0):\n",
    "        print(\"No es cuadrado perfecto\")\n",
    "    elif (number[0] == 0) :\n",
    "        print(\"Es cuadrado perfecto\")\n",
    "    \n",
    "        \n",
    "    "
   ]
  },
  {
   "cell_type": "code",
   "execution_count": 85,
   "metadata": {
    "ExecuteTime": {
     "end_time": "2021-03-04T23:24:26.795630Z",
     "start_time": "2021-03-04T23:24:26.789643Z"
    }
   },
   "outputs": [
    {
     "name": "stdout",
     "output_type": "stream",
     "text": [
      "Es cuadrado perfecto\n"
     ]
    }
   ],
   "source": [
    "is_perfect(36)"
   ]
  },
  {
   "cell_type": "markdown",
   "metadata": {},
   "source": [
    "## Escribe una expresión que permita determinar si un número entero positivo puede corresponder a un año bisiesto o no. Se consideran años bisiestos aquellos cuyo número es divisible por cuatro excepto los años que son múltiplos de 100, a no ser que lo sean de 400 (por ejemplo el año 2000 fue bisiesto pero el 2100 no lo será)."
   ]
  },
  {
   "cell_type": "code",
   "execution_count": 90,
   "metadata": {
    "ExecuteTime": {
     "end_time": "2021-03-04T23:34:40.365657Z",
     "start_time": "2021-03-04T23:34:38.450257Z"
    }
   },
   "outputs": [
    {
     "name": "stdout",
     "output_type": "stream",
     "text": [
      "Introduce un año: 2016\n",
      "El año es bisiesto.\n"
     ]
    }
   ],
   "source": [
    "año = int(input('Introduce un año: '))\n",
    "\n",
    "if año % 4 == 0:\n",
    "    if año % 100 == 0:\n",
    "        if año % 400 == 0:\n",
    "            print('El año es bisiesto')\n",
    "        else:\n",
    "            print('El año no es bisiesto')\n",
    "    else:\n",
    "        print('El año es bisiesto.')\n",
    "else:\n",
    "    print('El año no es bisiesto.')"
   ]
  },
  {
   "cell_type": "markdown",
   "metadata": {
    "ExecuteTime": {
     "end_time": "2021-03-04T23:35:52.693819Z",
     "start_time": "2021-03-04T23:35:52.686839Z"
    }
   },
   "source": [
    "## Busca la imagen de un tablero de ajedrez en Google y fíjate en la nomenclatura de las casillas. Escribe una expresión lea una letra y un número de teclado correspondiente a una casilla de un tablero de ajedrez y nos indique si esta casilla es negra o blanca."
   ]
  },
  {
   "cell_type": "code",
   "execution_count": 28,
   "metadata": {
    "ExecuteTime": {
     "end_time": "2021-03-05T12:18:04.251596Z",
     "start_time": "2021-03-05T12:18:04.236636Z"
    }
   },
   "outputs": [
    {
     "ename": "SyntaxError",
     "evalue": "invalid syntax (<ipython-input-28-685c65f326f2>, line 9)",
     "output_type": "error",
     "traceback": [
      "\u001b[1;36m  File \u001b[1;32m\"<ipython-input-28-685c65f326f2>\"\u001b[1;36m, line \u001b[1;32m9\u001b[0m\n\u001b[1;33m    elif ((x==1 and y=='B') or (x==1 and y=='D') or (x==1 and y=='F' or (x==1 and y=='H')) or ((x==2 and y=='A') or (x==2 and y=='C') or (x==2 and y=='E') or (x==2 and y=='G')) or ((x==3 and y=='B') or (x==3 and y=='D') or (x==3 and y=='F') or (x==3 and y=='H')) or ((x==4 and y=='A') or (x==4 and y=='C') or (x==4 and y=='E') or (x==4 and y=='G')) or ((x==5 and y=='B') or (x==5 and y=='D') or (x==5 and y=='F') or (x==5 and y=='H')) or ((x==6 and y=='A') or (x==6 and y=='C') or (x==6 and y=='E') or (x==6 and y=='G') or ((x==7 and y=='B') or (x==7 and y=='D') or (x==7 and y=='F') or (x==7 and y=='H')) ):\u001b[0m\n\u001b[1;37m                                                                                                                                                                                                                                                                                                                                                                                                                                                                                                                                                                                                                               ^\u001b[0m\n\u001b[1;31mSyntaxError\u001b[0m\u001b[1;31m:\u001b[0m invalid syntax\n"
     ]
    }
   ],
   "source": [
    "def white_black ():\n",
    "    print(\"por favor ingrese el numero y la letra del tablero a la cual quiere saber su  correspondiente color,\\n tenga en cuenta que el primer valor que ingrese se espera como un numero y el segundo como letra\")\n",
    "    negro  = \"Esta posición es de color negro.\"\n",
    "    blanco = \"Esta posición es de color blanco!.\"\n",
    "    x = int(input(\"Ingrese un numero\"))\n",
    "    y = input(\"Ingrese la letra del tablero\").upper()\n",
    "    if ( ((x==1 and y=='A') or (x==1 and y=='C') or (x==1 and y=='E') or (x==1 and y=='G'))  or ((x==2 and y=='B') or (x==2 and y=='D') or (x==2 and y=='F' or (x==2 and y=='H'))) or  ( (x==3 and y=='A') or (x==3 and y=='C') or (x==3 and y=='E') or (x==3 and y=='G')) or ((x==4 and y=='B') or (x==4 and y=='D') or (x==4 and y=='F') or (x==4 and y=='H')) or ((x==5 and y=='A') or (x==5 and y=='C') or (x==5 and y=='E') or (x==5 and y=='G')) or ((x==6 and y=='B') or (x==6 and y=='D') or (x==6 and y=='F') or (x==6 and y=='H')) or ((x==7 and y=='A') or (x==7 and y=='C') or (x==7 and y=='E') or (x==7 and y=='G'))  ) :\n",
    "        print (negro)\n",
    "    elif ((x==1 and y=='B') or (x==1 and y=='D') or (x==1 and y=='F' or (x==1 and y=='H')) or ((x==2 and y=='A') or (x==2 and y=='C') or (x==2 and y=='E') or (x==2 and y=='G')) or ((x==3 and y=='B') or (x==3 and y=='D') or (x==3 and y=='F') or (x==3 and y=='H')) or ((x==4 and y=='A') or (x==4 and y=='C') or (x==4 and y=='E') or (x==4 and y=='G')) or ((x==5 and y=='B') or (x==5 and y=='D') or (x==5 and y=='F') or (x==5 and y=='H')) or ((x==6 and y=='A') or (x==6 and y=='C') or (x==6 and y=='E') or (x==6 and y=='G')) or ( ) ):\n",
    "        print(blanco)\n",
    "   "
   ]
  },
  {
   "cell_type": "code",
   "execution_count": 25,
   "metadata": {
    "ExecuteTime": {
     "end_time": "2021-03-05T12:16:09.551480Z",
     "start_time": "2021-03-05T12:16:07.428244Z"
    }
   },
   "outputs": [
    {
     "name": "stdout",
     "output_type": "stream",
     "text": [
      "por favor ingrese el numero y la letra del tablero a la cual quiere saber su  correspondiente color,\n",
      " tenga en cuenta que el primer valor que ingrese se espera como un numero y el segundo como letra\n",
      "Ingrese un numero7\n",
      "Ingrese la letra del tablerog\n",
      "Esta posición es de color negro.\n"
     ]
    }
   ],
   "source": [
    "white_black ()"
   ]
  },
  {
   "cell_type": "code",
   "execution_count": null,
   "metadata": {},
   "outputs": [],
   "source": [
    "## "
   ]
  }
 ],
 "metadata": {
  "kernelspec": {
   "display_name": "Python 3",
   "language": "python",
   "name": "python3"
  },
  "language_info": {
   "codemirror_mode": {
    "name": "ipython",
    "version": 3
   },
   "file_extension": ".py",
   "mimetype": "text/x-python",
   "name": "python",
   "nbconvert_exporter": "python",
   "pygments_lexer": "ipython3",
   "version": "3.8.5"
  },
  "toc": {
   "base_numbering": 1,
   "nav_menu": {},
   "number_sections": true,
   "sideBar": true,
   "skip_h1_title": false,
   "title_cell": "Table of Contents",
   "title_sidebar": "Contents",
   "toc_cell": false,
   "toc_position": {},
   "toc_section_display": true,
   "toc_window_display": false
  },
  "varInspector": {
   "cols": {
    "lenName": 16,
    "lenType": 16,
    "lenVar": 40
   },
   "kernels_config": {
    "python": {
     "delete_cmd_postfix": "",
     "delete_cmd_prefix": "del ",
     "library": "var_list.py",
     "varRefreshCmd": "print(var_dic_list())"
    },
    "r": {
     "delete_cmd_postfix": ") ",
     "delete_cmd_prefix": "rm(",
     "library": "var_list.r",
     "varRefreshCmd": "cat(var_dic_list()) "
    }
   },
   "types_to_exclude": [
    "module",
    "function",
    "builtin_function_or_method",
    "instance",
    "_Feature"
   ],
   "window_display": false
  }
 },
 "nbformat": 4,
 "nbformat_minor": 4
}
