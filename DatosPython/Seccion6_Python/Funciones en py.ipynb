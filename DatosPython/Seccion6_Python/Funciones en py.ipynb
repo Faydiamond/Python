{
 "cells": [
  {
   "cell_type": "code",
   "execution_count": 1,
   "metadata": {
    "ExecuteTime": {
     "end_time": "2021-03-03T02:34:20.088112Z",
     "start_time": "2021-03-03T02:34:20.081091Z"
    }
   },
   "outputs": [],
   "source": [
    "## por definicion"
   ]
  },
  {
   "cell_type": "code",
   "execution_count": 14,
   "metadata": {
    "ExecuteTime": {
     "end_time": "2021-03-03T02:49:34.692206Z",
     "start_time": "2021-03-03T02:49:34.686222Z"
    }
   },
   "outputs": [
    {
     "data": {
      "text/plain": [
       "24"
      ]
     },
     "execution_count": 14,
     "metadata": {},
     "output_type": "execute_result"
    }
   ],
   "source": [
    "def my_sum(*args):\n",
    "    x=0\n",
    "    for valoess in args:\n",
    "        x+=valoess\n",
    "    return x\n",
    "    \n",
    "   \n",
    "\n",
    "my_sum (1, 2, 3,8,10)"
   ]
  },
  {
   "cell_type": "code",
   "execution_count": null,
   "metadata": {},
   "outputs": [],
   "source": []
  },
  {
   "cell_type": "code",
   "execution_count": 38,
   "metadata": {
    "ExecuteTime": {
     "end_time": "2021-03-03T04:04:48.168450Z",
     "start_time": "2021-03-03T04:04:48.146503Z"
    }
   },
   "outputs": [
    {
     "data": {
      "text/plain": [
       "70"
      ]
     },
     "execution_count": 38,
     "metadata": {},
     "output_type": "execute_result"
    }
   ],
   "source": [
    "class operation(object):\n",
    "    def my_sum(self,*args):\n",
    "        self.res = 0\n",
    "        for x in args:\n",
    "            self.res += x\n",
    "        return(self.res)\n",
    "            \n",
    "        \n",
    "        \n",
    "    \n",
    "        \n",
    "    \n",
    "op = operation()\n",
    "op.my_sum(1,2,10,15,20,18,4)"
   ]
  },
  {
   "cell_type": "code",
   "execution_count": 39,
   "metadata": {
    "ExecuteTime": {
     "end_time": "2021-03-03T04:13:29.108949Z",
     "start_time": "2021-03-03T04:13:29.096973Z"
    }
   },
   "outputs": [
    {
     "data": {
      "text/plain": [
       "6"
      ]
     },
     "execution_count": 39,
     "metadata": {},
     "output_type": "execute_result"
    }
   ],
   "source": [
    "12 //2 "
   ]
  },
  {
   "cell_type": "code",
   "execution_count": 48,
   "metadata": {
    "ExecuteTime": {
     "end_time": "2021-03-03T04:22:52.378870Z",
     "start_time": "2021-03-03T04:22:52.369893Z"
    }
   },
   "outputs": [
    {
     "data": {
      "text/plain": [
       "([10, 4, 2], [5, 11])"
      ]
     },
     "execution_count": 48,
     "metadata": {},
     "output_type": "execute_result"
    }
   ],
   "source": [
    "def pares(*args):\n",
    "    pares = list()\n",
    "    impares = list()\n",
    "    for x in args:\n",
    "        if(x%2 == 0):\n",
    "            #print (\"es par\"+str(x))\n",
    "            pares.append(x)\n",
    "        else:\n",
    "            impares.append(x)\n",
    "            \n",
    "    return(pares,impares)\n",
    "    \n",
    "\n",
    "pares(10,5,4,2,11)\n",
    "            "
   ]
  },
  {
   "cell_type": "code",
   "execution_count": null,
   "metadata": {},
   "outputs": [],
   "source": []
  }
 ],
 "metadata": {
  "kernelspec": {
   "display_name": "Python 3",
   "language": "python",
   "name": "python3"
  },
  "language_info": {
   "codemirror_mode": {
    "name": "ipython",
    "version": 3
   },
   "file_extension": ".py",
   "mimetype": "text/x-python",
   "name": "python",
   "nbconvert_exporter": "python",
   "pygments_lexer": "ipython3",
   "version": "3.8.5"
  },
  "toc": {
   "base_numbering": 1,
   "nav_menu": {},
   "number_sections": true,
   "sideBar": true,
   "skip_h1_title": false,
   "title_cell": "Table of Contents",
   "title_sidebar": "Contents",
   "toc_cell": false,
   "toc_position": {},
   "toc_section_display": true,
   "toc_window_display": false
  },
  "varInspector": {
   "cols": {
    "lenName": 16,
    "lenType": 16,
    "lenVar": 40
   },
   "kernels_config": {
    "python": {
     "delete_cmd_postfix": "",
     "delete_cmd_prefix": "del ",
     "library": "var_list.py",
     "varRefreshCmd": "print(var_dic_list())"
    },
    "r": {
     "delete_cmd_postfix": ") ",
     "delete_cmd_prefix": "rm(",
     "library": "var_list.r",
     "varRefreshCmd": "cat(var_dic_list()) "
    }
   },
   "types_to_exclude": [
    "module",
    "function",
    "builtin_function_or_method",
    "instance",
    "_Feature"
   ],
   "window_display": false
  }
 },
 "nbformat": 4,
 "nbformat_minor": 4
}
